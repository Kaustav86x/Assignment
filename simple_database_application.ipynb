{
  "nbformat": 4,
  "nbformat_minor": 0,
  "metadata": {
    "colab": {
      "name": "Untitled3.ipynb",
      "provenance": [],
      "authorship_tag": "ABX9TyN3lyXXizdt2tpQBhhS2Wiu",
      "include_colab_link": true
    },
    "kernelspec": {
      "name": "python3",
      "display_name": "Python 3"
    },
    "language_info": {
      "name": "python"
    }
  },
  "cells": [
    {
      "cell_type": "markdown",
      "metadata": {
        "id": "view-in-github",
        "colab_type": "text"
      },
      "source": [
        "<a href=\"https://colab.research.google.com/github/Kaustav86x/Python/blob/gh-pages/saimple_database_application.ipynb\" target=\"_parent\"><img src=\"https://colab.research.google.com/assets/colab-badge.svg\" alt=\"Open In Colab\"/></a>"
      ]
    },
    {
      "cell_type": "code",
      "metadata": {
        "id": "d8ypEreVFqgM"
      },
      "source": [
        "import sqlite3\n",
        "\n",
        "conn = sqlite3.connect('orgdb.sqlite')\n",
        "cur = conn.cursor() #cursor is kind of like a gateway\n",
        "\n",
        "cur.execute('DROP TABLE IF EXISTS Counts')\n",
        "\n",
        "cur.execute('CREATE TABLE Counts(org TEXT, count INTEGER)')\n",
        "\n",
        "fname = input('Enter file name: ')\n",
        "'''if(len(fname) < 1):\n",
        "    fname = 'mbox.text'''\n",
        "fh = open(fname)\n",
        "for line in fh:\n",
        "    if not line.startswith('From: '):\n",
        "        continue\n",
        "    pieces = line.split()\n",
        "    org = pieces[1]\n",
        "    parts = org.split('@')\n",
        "    org = parts[-1]\n",
        "    cur.execute('SELECT count FROM Counts WHERE org = ? ', (org,)) # ? - is a placeholder\n",
        "    #which don't allow sql injection\n",
        "    row = cur.fetchone()\n",
        "    if row is None:\n",
        "        cur.execute('INSERT INTO Counts (org, count) VALUES (?, 1)', (org,))\n",
        "    else:\n",
        "        cur.execute('UPDATE Counts SET count = count + 1 WHERE org = ?',(org,))\n",
        "        \n",
        "    conn.commit()\n",
        "\n",
        "sqlstr = 'SELECT org, count FROM Counts ORDER BY count DESC LIMIT 10'\n",
        "\n",
        "\n",
        "print(\"Counts: \")\n",
        "for row in cur.execute(sqlstr):\n",
        "    print(str(row[0]), row[1])  \n",
        "    \n",
        "cur.close()"
      ],
      "execution_count": null,
      "outputs": []
    },
    {
      "cell_type": "code",
      "metadata": {
        "id": "2LE3EEB0FsaM"
      },
      "source": [
        ""
      ],
      "execution_count": null,
      "outputs": []
    }
  ]
}
