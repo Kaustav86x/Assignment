{
  "nbformat": 4,
  "nbformat_minor": 0,
  "metadata": {
    "colab": {
      "name": "Untitled2.ipynb",
      "provenance": [],
      "collapsed_sections": [],
      "authorship_tag": "ABX9TyNmKLiDaVuvqjnAmq4yeYtF",
      "include_colab_link": true
    },
    "kernelspec": {
      "name": "python3",
      "display_name": "Python 3"
    },
    "language_info": {
      "name": "python"
    }
  },
  "cells": [
    {
      "cell_type": "markdown",
      "metadata": {
        "id": "view-in-github",
        "colab_type": "text"
      },
      "source": [
        "<a href=\"https://colab.research.google.com/github/Kaustav86x/Assignment/blob/master/Simple_web_scraping.ipynb\" target=\"_parent\"><img src=\"https://colab.research.google.com/assets/colab-badge.svg\" alt=\"Open In Colab\"/></a>"
      ]
    },
    {
      "cell_type": "code",
      "metadata": {
        "id": "Au0XA-rYBWz5"
      },
      "source": [
        "import urllib.request, urllib.parse, urllib.error\n",
        "from bs4 import BeautifulSoup\n",
        "import ssl\n",
        "\n",
        "# very simple data scraping example\n",
        "#to ignore ssl certificate error\n",
        "ctx = ssl.create_default_context()\n",
        "ctx.check_hostname = False\n",
        "ctx.verify_mode = ssl.CERT_NONE\n",
        "\n",
        "url = input(\"Enter the url : \")\n",
        "html = urllib.request.urlopen(url, context=ctx).read()  #reading the whole document\n",
        "soup = BeautifulSoup(html, 'html5lib')\n",
        "\n",
        "tags = soup.findAll('p')\n",
        "\n",
        "content = '0'\n",
        "for tag in tags:\n",
        "  content += tag.text\n",
        "print(content) #clean data\n",
        "print(content.split()) #data in form of list\n"
      ],
      "execution_count": null,
      "outputs": []
    }
  ]
}